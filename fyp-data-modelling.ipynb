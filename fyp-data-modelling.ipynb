{
 "cells": [
  {
   "cell_type": "markdown",
   "metadata": {},
   "source": [
    "# Data modelling and evaluation"
   ]
  },
  {
   "cell_type": "code",
   "execution_count": 30,
   "metadata": {},
   "outputs": [],
   "source": [
    "# Imports\n",
    "\n",
    "# Standard Imports\n",
    "import pandas as pd\n",
    "import numpy as np\n",
    "import matplotlib.pyplot as plt\n",
    "import seaborn as sns\n",
    "import math\n",
    "import requests\n",
    "import random\n",
    "from urllib3.util.retry import Retry\n",
    "from requests.adapters import HTTPAdapter\n",
    "import time\n",
    "import scipy.stats as stats\n",
    "from pprint import pprint\n",
    "import re\n",
    "import xgboost as xgb\n",
    "from sklearn.metrics import r2_score\n",
    "from sklearn.metrics import root_mean_squared_error, mean_squared_log_error\n",
    "\n",
    "from sklearn.model_selection import train_test_split\n",
    "import gc"
   ]
  },
  {
   "cell_type": "code",
   "execution_count": 24,
   "metadata": {},
   "outputs": [],
   "source": [
    "# Read data from data-prepared\n",
    "# Read data file\n",
    "X_train = pd.read_csv('./data-prepared/X_train.csv')\n",
    "# Read data file\n",
    "X_test = pd.read_csv('./data-prepared/X_test.csv')\n",
    "# Read data file\n",
    "y_train = pd.read_csv('./data-prepared/y_train.csv')\n",
    "# Read data file\n",
    "y_test = pd.read_csv('./data-prepared/y_test.csv')"
   ]
  },
  {
   "cell_type": "code",
   "execution_count": null,
   "metadata": {},
   "outputs": [],
   "source": [
    "# XGBoost training, ignore the error\n",
    "\n",
    "housevalue_regressor = xgb.XGBRegressor()\n",
    "\n",
    "housevalue_regressor.fit(X_train,y_train, eval_set=[(X_test,y_test),(X_train,y_train)])"
   ]
  },
  {
   "cell_type": "code",
   "execution_count": 26,
   "metadata": {},
   "outputs": [],
   "source": [
    "y_score = housevalue_regressor.predict(X_test)"
   ]
  },
  {
   "cell_type": "code",
   "execution_count": 27,
   "metadata": {},
   "outputs": [
    {
     "name": "stdout",
     "output_type": "stream",
     "text": [
      "R2 0.968130886554718\n"
     ]
    }
   ],
   "source": [
    "predicter_r2 = r2_score(y_true=y_test, y_pred= y_score)\n",
    "print(\"R2\", predicter_r2)"
   ]
  },
  {
   "cell_type": "code",
   "execution_count": 28,
   "metadata": {},
   "outputs": [
    {
     "name": "stdout",
     "output_type": "stream",
     "text": [
      "RMSE:  27403.71484375\n"
     ]
    }
   ],
   "source": [
    "rmse = root_mean_squared_error(y_test[\"resale_price\"].tolist(), y_score)\n",
    "print(\"RMSE: \", rmse)"
   ]
  },
  {
   "cell_type": "code",
   "execution_count": 29,
   "metadata": {},
   "outputs": [
    {
     "name": "stdout",
     "output_type": "stream",
     "text": [
      "RMSLE:  0.003699549240991473\n"
     ]
    }
   ],
   "source": [
    "rmsle = mean_squared_log_error(y_test[\"resale_price\"].tolist(), y_score)\n",
    "print(\"RMSLE: \", rmsle)"
   ]
  }
 ],
 "metadata": {
  "kernelspec": {
   "display_name": "fyp",
   "language": "python",
   "name": "python3"
  },
  "language_info": {
   "codemirror_mode": {
    "name": "ipython",
    "version": 3
   },
   "file_extension": ".py",
   "mimetype": "text/x-python",
   "name": "python",
   "nbconvert_exporter": "python",
   "pygments_lexer": "ipython3",
   "version": "3.13.0"
  }
 },
 "nbformat": 4,
 "nbformat_minor": 2
}
