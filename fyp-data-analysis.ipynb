{
 "cells": [
  {
   "cell_type": "markdown",
   "metadata": {},
   "source": [
    "# Data Exploration (TO BE UPDATED)"
   ]
  },
  {
   "cell_type": "code",
   "execution_count": 1,
   "metadata": {},
   "outputs": [],
   "source": [
    "# Standard Imports\n",
    "import pandas as pd\n",
    "import numpy as np\n",
    "import matplotlib.pyplot as plt\n",
    "import seaborn as sns\n",
    "import math\n",
    "import requests\n",
    "import random\n",
    "from urllib3.util.retry import Retry\n",
    "from requests.adapters import HTTPAdapter\n",
    "import time\n",
    "import scipy.stats as stats\n",
    "from pprint import pprint\n",
    "import re\n",
    "\n",
    "import gc"
   ]
  },
  {
   "cell_type": "code",
   "execution_count": 3,
   "metadata": {},
   "outputs": [],
   "source": [
    "# Read data file\n",
    "df = pd.read_csv('gathered_data.csv')"
   ]
  },
  {
   "cell_type": "code",
   "execution_count": 7,
   "metadata": {},
   "outputs": [
    {
     "name": "stdout",
     "output_type": "stream",
     "text": [
      "['flat_type', 'street_name', 'storey_range', 'flat_model', 'address']\n",
      "['floor_area_sqm', 'lease_commence_yr', 'remaining_lease', 'lat', 'lon', 'dist_mrt', 'dist_mall', 'sale_yr']\n"
     ]
    }
   ],
   "source": [
    "# Define categorical variable\n",
    "cat_vars = [var for var in df.columns if df[var].dtype == 'O']\n",
    "print (cat_vars)\n",
    "\n",
    "# Define numerical variable\n",
    "num_vars = [var for var in df.columns if var not in cat_vars and var != \"resale_price\"]\n",
    "print (num_vars)"
   ]
  }
 ],
 "metadata": {
  "kernelspec": {
   "display_name": "fyp",
   "language": "python",
   "name": "python3"
  },
  "language_info": {
   "codemirror_mode": {
    "name": "ipython",
    "version": 3
   },
   "file_extension": ".py",
   "mimetype": "text/x-python",
   "name": "python",
   "nbconvert_exporter": "python",
   "pygments_lexer": "ipython3",
   "version": "3.13.0"
  }
 },
 "nbformat": 4,
 "nbformat_minor": 2
}
