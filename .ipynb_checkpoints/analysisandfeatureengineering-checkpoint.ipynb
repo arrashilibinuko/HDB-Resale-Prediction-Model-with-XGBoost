{
 "cells": [
  {
   "cell_type": "markdown",
   "id": "5f678d82-4755-461e-b63e-69188e172265",
   "metadata": {},
   "source": [
    "# Data Analysis"
   ]
  },
  {
   "cell_type": "markdown",
   "id": "df6e8500-ac65-4048-ab8a-c298da9f3fdf",
   "metadata": {},
   "source": [
    "Objective is to analyse the HDB housing data in Singapore."
   ]
  },
  {
   "cell_type": "code",
   "execution_count": null,
   "id": "5dd099b3-35f6-4321-ae52-77232223bfe6",
   "metadata": {},
   "outputs": [],
   "source": [
    "import pandas as pd\n",
    "import numpy as np\n",
    "\n",
    "import matplotlib.pyplot as plt\n",
    "import seaborn as sns\n",
    "\n",
    "import scipy.stats as stats\n",
    "\n",
    "pd.pandas.set_option('display.max_columns', None)\n",
    "\n",
    "from pprint import pprint\n",
    "import gc\n",
    "\n",
    "# Load dataset\n",
    "data = pd.read_csv(\"hdb.csv\")\n",
    "\n",
    "data.shape()"
   ]
  },
  {
   "cell_type": "code",
   "execution_count": null,
   "id": "4394e230-b5c4-43e1-a32b-ae4fcff7dec6",
   "metadata": {},
   "outputs": [],
   "source": []
  }
 ],
 "metadata": {
  "kernelspec": {
   "display_name": "Python 3 (ipykernel)",
   "language": "python",
   "name": "python3"
  },
  "language_info": {
   "codemirror_mode": {
    "name": "ipython",
    "version": 3
   },
   "file_extension": ".py",
   "mimetype": "text/x-python",
   "name": "python",
   "nbconvert_exporter": "python",
   "pygments_lexer": "ipython3",
   "version": "3.13.0"
  }
 },
 "nbformat": 4,
 "nbformat_minor": 5
}
