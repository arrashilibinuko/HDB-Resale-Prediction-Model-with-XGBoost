{
 "cells": [
  {
   "cell_type": "markdown",
   "metadata": {},
   "source": [
    "# Feature Engineering"
   ]
  },
  {
   "cell_type": "code",
   "execution_count": 1,
   "metadata": {},
   "outputs": [],
   "source": [
    "# Imports\n",
    "\n",
    "# Standard Imports\n",
    "import pandas as pd\n",
    "import numpy as np\n",
    "import matplotlib.pyplot as plt\n",
    "import seaborn as sns\n",
    "import math\n",
    "import requests\n",
    "import random\n",
    "from urllib3.util.retry import Retry\n",
    "from requests.adapters import HTTPAdapter\n",
    "import time\n",
    "import scipy.stats as stats\n",
    "from pprint import pprint\n",
    "import re\n",
    "\n",
    "from sklearn.model_selection import train_test_split\n",
    "import gc"
   ]
  },
  {
   "cell_type": "code",
   "execution_count": 2,
   "metadata": {},
   "outputs": [],
   "source": [
    "# Read data file\n",
    "df = pd.read_csv('gathered_data.csv')"
   ]
  },
  {
   "cell_type": "code",
   "execution_count": 3,
   "metadata": {},
   "outputs": [
    {
     "name": "stdout",
     "output_type": "stream",
     "text": [
      "['flat_type', 'storey_range', 'flat_model', 'district_code']\n",
      "['floor_area_sqm', 'lease_commence_yr', 'remaining_lease', 'lat', 'lon', 'dist_mrt', 'dist_mall', 'sale_yr']\n"
     ]
    }
   ],
   "source": [
    "# Define categorical variable\n",
    "cat_vars = [var for var in df.columns if df[var].dtype == 'O']\n",
    "print (cat_vars)\n",
    "\n",
    "# Define numerical variable\n",
    "num_vars = [var for var in df.columns if var not in cat_vars and var != \"resale_price\"]\n",
    "print (num_vars)"
   ]
  },
  {
   "cell_type": "code",
   "execution_count": 4,
   "metadata": {},
   "outputs": [
    {
     "name": "stdout",
     "output_type": "stream",
     "text": [
      "Unique values for flat_type: ['2 ROOM' '3 ROOM' '4 ROOM' '5 ROOM' 'EXECUTIVE' '1 ROOM'\n",
      " 'MULTI-GENERATION']\n",
      "Unique values for storey_range: ['MidToHigh' 'Low' 'LowToMid' 'Middle' 'High' 'UltraHigh']\n",
      "Unique values for flat_model: ['Improved' 'New Generation' 'DBSS' 'Standard' 'Apartment' 'Simplified'\n",
      " 'Model A' 'Premium Apartment' 'Adjoined flat' 'Model A-Maisonette'\n",
      " 'Maisonette' 'Type S1' 'Type S2' 'Model A2' 'Terrace'\n",
      " 'Improved-Maisonette' 'Premium Maisonette' 'Multi Generation'\n",
      " 'Premium Apartment Loft' '2-room']\n",
      "Unique values for district_code: ['56' '46' '47' '41' '57' '65' '16' '10' '09' '15' '67' '59' '26' '20'\n",
      " '18' '05' '08' '68' '12' '37' '36' '40' '43' '39' '38' '53' '60' '64'\n",
      " '61' '32' '33' '21' '58' '19' '44' '50' '51' '82' '14' '27' '13' '75'\n",
      " '79' '54' '55' '52' '31' '35' '73' '76' 'NI' '42' '30' '11']\n"
     ]
    }
   ],
   "source": [
    "# Print unique values of each cat_vars\n",
    "for var in cat_vars:\n",
    "    print(f\"Unique values for {var}: {df[var].unique()}\")"
   ]
  },
  {
   "cell_type": "code",
   "execution_count": 5,
   "metadata": {},
   "outputs": [
    {
     "name": "stdout",
     "output_type": "stream",
     "text": [
      "  flat_type storey_range  floor_area_sqm      flat_model  lease_commence_yr  \\\n",
      "0    2 ROOM    MidToHigh            44.0        Improved               1979   \n",
      "1    3 ROOM          Low            67.0  New Generation               1978   \n",
      "2    3 ROOM          Low            67.0  New Generation               1980   \n",
      "3    3 ROOM     LowToMid            68.0  New Generation               1980   \n",
      "4    3 ROOM          Low            67.0  New Generation               1980   \n",
      "\n",
      "   remaining_lease  resale_price       lat         lon     dist_mrt  \\\n",
      "0        61.333333      232000.0  1.362005  103.853880  1003.996014   \n",
      "1        60.583333      250000.0  1.370966  103.838202   189.874559   \n",
      "2        62.416667      262000.0  1.380709  103.835368   535.116600   \n",
      "3        62.083333      265000.0  1.366201  103.857201   945.527315   \n",
      "4        62.416667      265000.0  1.381041  103.835132   501.151239   \n",
      "\n",
      "     dist_mall district_code  sale_yr  flat_type_enc  storey_range_enc  \n",
      "0  1101.335572            56     2017            1.0                 5  \n",
      "1   440.653453            56     2017            2.0                 1  \n",
      "2  1568.807251            56     2017            2.0                 1  \n",
      "3  1295.005867            56     2017            2.0                 2  \n",
      "4  1611.664309            56     2017            2.0                 1  \n"
     ]
    }
   ],
   "source": [
    "# Encode flat type and storey range\n",
    "# flatype\n",
    "map_flat_type = { '2 ROOM': 1, '3 ROOM': 2, '4 ROOM': 3, '5 ROOM': 4, 'MULTI-GENERATION': 5, 'EXECUTIVE': 6, 'Missing': 0, 'NaN': 0 }\n",
    "df[\"flat_type_enc\"] = df[\"flat_type\"].map(map_flat_type)\n",
    "\n",
    "# storey_rangem\n",
    "map_storey_range = { 'Low': 1, 'LowToMid': 2, 'Mid': 3, 'Middle': 4, 'MidToHigh': 5, 'High': 6, 'UltraHigh': 7, 'Missing': 0, 'NA': 0}\n",
    "df[\"storey_range_enc\"] = df[\"storey_range\"].map(map_storey_range)\n",
    "\n",
    "print(df.head())"
   ]
  },
  {
   "cell_type": "code",
   "execution_count": 6,
   "metadata": {},
   "outputs": [],
   "source": [
    "# Mean encode for flat_model and district_code based on mean of target\n",
    "\n",
    "# Separate into training and testing sets\n",
    "X_train, X_test, y_train, y_test = train_test_split(df, df['resale_price'], test_size=0.5, random_state=0)\n",
    "\n",
    "# Function to calculate mean target value for each category and create mapping\n",
    "def find_category_mappings(df, variable, target):\n",
    "    return df.groupby([variable])[target].mean().to_dict()\n",
    "\n",
    "# Function to apply the mapping\n",
    "def mean_encode(train, test, variable, ordinal_mapping):\n",
    "    train[variable + '_mean_enc'] = train[variable].map(ordinal_mapping)\n",
    "    test[variable + '_mean_enc'] = test[variable].map(ordinal_mapping)\n",
    "    return train, test\n",
    "\n",
    "# Apply mean encoding\n",
    "mappings = find_category_mappings(X_train, 'flat_model', 'resale_price')\n",
    "X_train, X_test = mean_encode(X_train, X_test, 'flat_model', mappings)\n",
    "\n",
    "mappings = find_category_mappings(X_train, 'district_code', 'resale_price')\n",
    "X_train, X_test = mean_encode(X_train, X_test, 'district_code', mappings)"
   ]
  },
  {
   "cell_type": "code",
   "execution_count": 7,
   "metadata": {},
   "outputs": [
    {
     "name": "stdout",
     "output_type": "stream",
     "text": [
      "Mean Encoding with Pandas:\n",
      "        flat_type storey_range  floor_area_sqm  flat_model  lease_commence_yr  \\\n",
      "59513     4 ROOM       Middle            93.0     Model A               2015   \n",
      "43132     4 ROOM          Low            93.0     Model A               2015   \n",
      "16632     2 ROOM    MidToHigh            43.0    Standard               1967   \n",
      "61020     5 ROOM       Middle           121.0    Improved               1987   \n",
      "1635   EXECUTIVE    MidToHigh           146.0  Maisonette               1986   \n",
      "\n",
      "       remaining_lease  resale_price       lat         lon     dist_mrt  \\\n",
      "59513        94.583333      395000.0  1.400309  103.898075   564.346922   \n",
      "43132        95.250000      350000.0  1.389041  103.910719   579.566170   \n",
      "16632        48.750000      225000.0  1.337357  103.850391   506.629900   \n",
      "61020        66.333333      638000.0  1.319789  103.767788   594.339306   \n",
      "1635         68.416667      620000.0  1.320604  103.737792  1482.151624   \n",
      "\n",
      "         dist_mall district_code  sale_yr  flat_type_enc  storey_range_enc  \\\n",
      "59513  1148.501196            82     2019            3.0                 4   \n",
      "43132   778.139275            54     2019            3.0                 1   \n",
      "16632  1233.770732            31     2017            1.0                 5   \n",
      "61020   660.200359            12     2019            4.0                 4   \n",
      "1635   1745.766412            60     2017            6.0                 5   \n",
      "\n",
      "       flat_model_mean_enc  district_code_mean_enc  \n",
      "59513        422435.228412           452594.588939  \n",
      "43132        422435.228412           445972.489862  \n",
      "16632        392477.811355           490848.054545  \n",
      "61020        450977.037123           468591.195627  \n",
      "1635         675127.503490           412357.561143  \n"
     ]
    }
   ],
   "source": [
    "print(\"Mean Encoding with Pandas:\\n\", X_train.head())"
   ]
  },
  {
   "cell_type": "code",
   "execution_count": 8,
   "metadata": {},
   "outputs": [
    {
     "name": "stdout",
     "output_type": "stream",
     "text": [
      "<class 'pandas.core.frame.DataFrame'>\n",
      "Index: 38947 entries, 59513 to 68268\n",
      "Data columns (total 17 columns):\n",
      " #   Column                  Non-Null Count  Dtype  \n",
      "---  ------                  --------------  -----  \n",
      " 0   flat_type               38947 non-null  object \n",
      " 1   storey_range            38947 non-null  object \n",
      " 2   floor_area_sqm          38947 non-null  float64\n",
      " 3   flat_model              38947 non-null  object \n",
      " 4   lease_commence_yr       38947 non-null  int64  \n",
      " 5   remaining_lease         38947 non-null  float64\n",
      " 6   resale_price            38947 non-null  float64\n",
      " 7   lat                     38947 non-null  float64\n",
      " 8   lon                     38947 non-null  float64\n",
      " 9   dist_mrt                38947 non-null  float64\n",
      " 10  dist_mall               38947 non-null  float64\n",
      " 11  district_code           38947 non-null  object \n",
      " 12  sale_yr                 38947 non-null  int64  \n",
      " 13  flat_type_enc           38922 non-null  float64\n",
      " 14  storey_range_enc        38947 non-null  int64  \n",
      " 15  flat_model_mean_enc     38947 non-null  float64\n",
      " 16  district_code_mean_enc  38947 non-null  float64\n",
      "dtypes: float64(10), int64(3), object(4)\n",
      "memory usage: 5.3+ MB\n",
      "None\n"
     ]
    }
   ],
   "source": [
    "print(X_train.info())"
   ]
  },
  {
   "cell_type": "code",
   "execution_count": 9,
   "metadata": {},
   "outputs": [],
   "source": [
    "# Drop the object variables\n",
    "X_train = X_train.drop(columns=cat_vars)\n",
    "X_test = X_test.drop(columns=cat_vars)\n",
    "\n",
    "# Drop the target variable\n",
    "X_train = X_train.drop(columns=\"resale_price\")\n",
    "X_test = X_test.drop(columns=\"resale_price\")"
   ]
  },
  {
   "cell_type": "code",
   "execution_count": 10,
   "metadata": {},
   "outputs": [
    {
     "name": "stdout",
     "output_type": "stream",
     "text": [
      "       floor_area_sqm  lease_commence_yr  remaining_lease       lat  \\\n",
      "59513            93.0               2015        94.583333  1.400309   \n",
      "43132            93.0               2015        95.250000  1.389041   \n",
      "16632            43.0               1967        48.750000  1.337357   \n",
      "61020           121.0               1987        66.333333  1.319789   \n",
      "1635            146.0               1986        68.416667  1.320604   \n",
      "\n",
      "              lon     dist_mrt    dist_mall  sale_yr  flat_type_enc  \\\n",
      "59513  103.898075   564.346922  1148.501196     2019            3.0   \n",
      "43132  103.910719   579.566170   778.139275     2019            3.0   \n",
      "16632  103.850391   506.629900  1233.770732     2017            1.0   \n",
      "61020  103.767788   594.339306   660.200359     2019            4.0   \n",
      "1635   103.737792  1482.151624  1745.766412     2017            6.0   \n",
      "\n",
      "       storey_range_enc  flat_model_mean_enc  district_code_mean_enc  \n",
      "59513                 4        422435.228412           452594.588939  \n",
      "43132                 1        422435.228412           445972.489862  \n",
      "16632                 5        392477.811355           490848.054545  \n",
      "61020                 4        450977.037123           468591.195627  \n",
      "1635                  5        675127.503490           412357.561143  \n"
     ]
    }
   ],
   "source": [
    "print(X_train.head())"
   ]
  },
  {
   "cell_type": "code",
   "execution_count": 11,
   "metadata": {},
   "outputs": [
    {
     "name": "stdout",
     "output_type": "stream",
     "text": [
      "59513    395000.0\n",
      "43132    350000.0\n",
      "16632    225000.0\n",
      "61020    638000.0\n",
      "1635     620000.0\n",
      "Name: resale_price, dtype: float64\n"
     ]
    }
   ],
   "source": [
    "print(y_train.head())"
   ]
  },
  {
   "cell_type": "code",
   "execution_count": 12,
   "metadata": {},
   "outputs": [],
   "source": [
    "# Export x_train, x_test, y_train and y_test to ./data-prepared folder, named the csv files as x_train.csv etc\n",
    "# Export X_train, X_test, y_train and y_test to ./data-prepared folder\n",
    "X_train.to_csv('./data-prepared/X_train.csv', index=False)\n",
    "X_test.to_csv('./data-prepared/X_test.csv', index=False)\n",
    "y_train.to_csv('./data-prepared/y_train.csv', index=False)\n",
    "y_test.to_csv('./data-prepared/y_test.csv', index=False)"
   ]
  }
 ],
 "metadata": {
  "kernelspec": {
   "display_name": "fyp",
   "language": "python",
   "name": "python3"
  },
  "language_info": {
   "codemirror_mode": {
    "name": "ipython",
    "version": 3
   },
   "file_extension": ".py",
   "mimetype": "text/x-python",
   "name": "python",
   "nbconvert_exporter": "python",
   "pygments_lexer": "ipython3",
   "version": "3.13.0"
  }
 },
 "nbformat": 4,
 "nbformat_minor": 2
}
